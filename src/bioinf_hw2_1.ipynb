{
  "nbformat": 4,
  "nbformat_minor": 0,
  "metadata": {
    "colab": {
      "provenance": []
    },
    "kernelspec": {
      "name": "python3",
      "display_name": "Python 3"
    },
    "language_info": {
      "name": "python"
    }
  },
  "cells": [
    {
      "cell_type": "markdown",
      "source": [
        "# **Основная часть**"
      ],
      "metadata": {
        "id": "k5Mnotb79SEd"
      }
    },
    {
      "cell_type": "code",
      "execution_count": 31,
      "metadata": {
        "colab": {
          "base_uri": "https://localhost:8080/"
        },
        "id": "QDJn9M4952xQ",
        "outputId": "19ae2bdd-6944-41b3-839f-a16c6e170558"
      },
      "outputs": [
        {
          "output_type": "stream",
          "name": "stdout",
          "text": [
            "Количество контигов: 601\n",
            "Длина контигов: 3923107\n",
            "Самый длинный контиг: 179307\n",
            "N50: 47993\n"
          ]
        }
      ],
      "source": [
        "f = open(\"contigs.fasta\")\n",
        "a = f.readlines()\n",
        "n = ln = 0\n",
        "lng = int(a[0][a[0].find('len') + 3:a[0].rfind('_')])\n",
        "lst = []\n",
        "for i in a:\n",
        "    if '>' in i:\n",
        "        n += 1\n",
        "        ln += int(i[i.find('len') + 3:i.rfind('_')])\n",
        "        ltmp = int(i[i.find('len') + 3:i.rfind('_')])\n",
        "        lst.append(ltmp)\n",
        "        if ltmp > lng:\n",
        "          lng = ltmp\n",
        "lst.sort()\n",
        "lst.reverse()\n",
        "summ = j = ind =  0\n",
        "while summ <= ln/2:\n",
        "    summ += lst[j]\n",
        "    ind = j\n",
        "    j+=1\n",
        "\n",
        "print(f'Количество контигов: {n}')\n",
        "print(f'Длина контигов: {ln}')\n",
        "print(f'Самый длинный контиг: {lng}')\n",
        "print(f'N50: {lst[ind]}')"
      ]
    },
    {
      "cell_type": "code",
      "source": [
        "import re\n",
        "f = open(\"scaffolds.fasta\")\n",
        "a = f.readlines()\n",
        "n = ln = mx = sm = 0\n",
        "lng = a[0].split('len')[1].split('_cov')[0]\n",
        "lst = []\n",
        "for i in a:\n",
        "    if '>' in i:\n",
        "        n += 1\n",
        "        ln += int(i[i.index('len') + 3:i.index('_cov')])\n",
        "        ltmp = int(i[i.index('len') + 3:i.index('_cov')])\n",
        "        lst.append(ltmp)\n",
        "    for j in i:\n",
        "        if j == \"N\":\n",
        "            sm += 1\n",
        "lst.sort()\n",
        "lst.reverse()\n",
        "summ = j = ind =  0\n",
        "while summ <= ln/2:\n",
        "    summ += lst[j]\n",
        "    ind = j\n",
        "    j+=1\n",
        "\n",
        "print(f'Количество скаффолдов: {n}')\n",
        "print(f'Длина скаффолдов: {ln}')\n",
        "print(f'Самый длинный скаффолд: {lng}')\n",
        "print(f'N50: {lst[ind]}')\n",
        "print(f'Общая длина гэпов до подрезания: {sm}')"
      ],
      "metadata": {
        "colab": {
          "base_uri": "https://localhost:8080/"
        },
        "id": "drppn6lr_FLq",
        "outputId": "00d697f7-6c68-4553-b094-4acc360d51a9"
      },
      "execution_count": 32,
      "outputs": [
        {
          "output_type": "stream",
          "name": "stdout",
          "text": [
            "Количество скаффолдов: 67\n",
            "Длина скаффолдов: 3872516\n",
            "Самый длинный скаффолд: 3833690\n",
            "N50: 3833690\n",
            "Общая длина гэпов до подрезания: 6851\n"
          ]
        }
      ]
    },
    {
      "cell_type": "code",
      "source": [
        "f = open(\"after_gap.fa\")\n",
        "a = f.readlines()\n",
        "sm = 0\n",
        "for i in a:\n",
        "    for j in i:\n",
        "        if j == \"N\":\n",
        "            sm += 1\n",
        "print(f'Общая длина гэпов после подрезания: {sm}')"
      ],
      "metadata": {
        "colab": {
          "base_uri": "https://localhost:8080/"
        },
        "id": "Sx65tQ2FZdL7",
        "outputId": "382a8563-1c54-4c52-876f-d5c1cd15bb28"
      },
      "execution_count": 30,
      "outputs": [
        {
          "output_type": "stream",
          "name": "stdout",
          "text": [
            "Общая длина гэпов после подрезания: 1530\n"
          ]
        }
      ]
    },
    {
      "cell_type": "code",
      "source": [
        "!grep 'N' scaffolds.fasta | wc -l"
      ],
      "metadata": {
        "colab": {
          "base_uri": "https://localhost:8080/"
        },
        "id": "FudI0Sq23C_G",
        "outputId": "b3d1efb5-353b-4cde-aff5-341d2f09a6a9"
      },
      "execution_count": 7,
      "outputs": [
        {
          "output_type": "stream",
          "name": "stdout",
          "text": [
            "163\n"
          ]
        }
      ]
    },
    {
      "cell_type": "code",
      "source": [
        "!grep 'N' after_gap.fa | wc -l"
      ],
      "metadata": {
        "colab": {
          "base_uri": "https://localhost:8080/"
        },
        "id": "WNNpfhZL-Z9e",
        "outputId": "cfef4d29-1e63-4bf5-c2e6-867a8396817e"
      },
      "execution_count": 8,
      "outputs": [
        {
          "output_type": "stream",
          "name": "stdout",
          "text": [
            "29\n"
          ]
        }
      ]
    },
    {
      "cell_type": "markdown",
      "source": [
        "# **Бонусная часть**"
      ],
      "metadata": {
        "id": "-KmdCsvB82Pr"
      }
    },
    {
      "cell_type": "code",
      "source": [
        "f = open(\"Poil_contig.fa\")\n",
        "a = f.readlines()\n",
        "n = ln = 0\n",
        "lng = int(a[0][a[0].find('len') + 3:a[0].rfind('_')])\n",
        "lst = []\n",
        "for i in a:\n",
        "    if '>' in i:\n",
        "        n += 1\n",
        "        ln += int(i[i.find('len') + 3:i.rfind('_')])\n",
        "        ltmp = int(i[i.find('len') + 3:i.rfind('_')])\n",
        "        lst.append(ltmp)\n",
        "        if ltmp > lng:\n",
        "          lng = ltmp\n",
        "lst.sort()\n",
        "lst.reverse()\n",
        "summ = j = ind =  0\n",
        "while summ <= ln/2:\n",
        "    summ += lst[j]\n",
        "    ind = j\n",
        "    j+=1\n",
        "\n",
        "print(f'Количество контигов: {n}')\n",
        "print(f'Длина контигов: {ln}')\n",
        "print(f'Самый длинный контиг: {lng}')\n",
        "print(f'N50: {lst[ind]}')"
      ],
      "metadata": {
        "colab": {
          "base_uri": "https://localhost:8080/"
        },
        "id": "rtR-fSIz8K8t",
        "outputId": "27cb35d5-4e16-4b09-f48b-fa2da0b785ae"
      },
      "execution_count": 33,
      "outputs": [
        {
          "output_type": "stream",
          "name": "stdout",
          "text": [
            "Количество контигов: 656\n",
            "Длина контигов: 3926237\n",
            "Самый длинный контиг: 225295\n",
            "N50: 67680\n"
          ]
        }
      ]
    },
    {
      "cell_type": "code",
      "source": [
        "f = open(\"Poil_scaffold.fa\")\n",
        "a = f.readlines()\n",
        "n = ln = mx = sm = 0\n",
        "lng = a[0].split('len')[1].split('_cov')[0]\n",
        "lst = []\n",
        "for i in a:\n",
        "    if '>' in i:\n",
        "        n += 1\n",
        "        ln += int(i[i.index('len') + 3:i.index('_cov')])\n",
        "        ltmp = int(i[i.index('len') + 3:i.index('_cov')])\n",
        "        lst.append(ltmp)\n",
        "    for j in i:\n",
        "        if j == \"N\":\n",
        "            sm += 1\n",
        "lst.sort()\n",
        "lst.reverse()\n",
        "summ = j = ind =  0\n",
        "while summ <= ln/2:\n",
        "    summ += lst[j]\n",
        "    ind = j\n",
        "    j+=1\n",
        "\n",
        "print(f'Количество скаффолдов: {n}')\n",
        "print(f'Длина скаффолдов: {ln}')\n",
        "print(f'Самый длинный скаффолд: {lst[ind]}')\n",
        "print(f'N50: {lst[ind]}')\n",
        "print(f'Общая длина гэпов до подрезания: {sm}')"
      ],
      "metadata": {
        "colab": {
          "base_uri": "https://localhost:8080/"
        },
        "id": "OxeSnUF68bcT",
        "outputId": "c3f3201b-806b-4151-b2c8-706530c53ed8"
      },
      "execution_count": 34,
      "outputs": [
        {
          "output_type": "stream",
          "name": "stdout",
          "text": [
            "Количество скаффолдов: 75\n",
            "Длина скаффолдов: 3871069\n",
            "Самый длинный скаффолд: 3650391\n",
            "N50: 3650391\n",
            "Общая длина гэпов до подрезания: 7010\n"
          ]
        }
      ]
    },
    {
      "cell_type": "code",
      "source": [
        "f = open(\"Poil_gapClosed.fa\")\n",
        "a = f.readlines()\n",
        "sm = 0\n",
        "for i in a:\n",
        "    for j in i:\n",
        "        if j == \"N\":\n",
        "            sm += 1\n",
        "print(f'Общая длина гэпов после подрезания: {sm}')"
      ],
      "metadata": {
        "colab": {
          "base_uri": "https://localhost:8080/"
        },
        "id": "D6vzJLRJ8nul",
        "outputId": "dd7795de-810c-4db8-f2c6-2eb866f8c057"
      },
      "execution_count": 35,
      "outputs": [
        {
          "output_type": "stream",
          "name": "stdout",
          "text": [
            "Общая длина гэпов после подрезания: 1910\n"
          ]
        }
      ]
    },
    {
      "cell_type": "code",
      "source": [
        "!grep 'N' Poil_scaffold.fa | wc -l"
      ],
      "metadata": {
        "colab": {
          "base_uri": "https://localhost:8080/"
        },
        "id": "U5uStslu80Pb",
        "outputId": "4f3d883f-b3a4-4e0b-8331-89acc10e4d36"
      },
      "execution_count": 36,
      "outputs": [
        {
          "output_type": "stream",
          "name": "stdout",
          "text": [
            "158\n"
          ]
        }
      ]
    },
    {
      "cell_type": "code",
      "source": [
        "!grep 'N' Poil_gapClosed.fa | wc -l"
      ],
      "metadata": {
        "colab": {
          "base_uri": "https://localhost:8080/"
        },
        "id": "cA7gcMmL9DQM",
        "outputId": "f585f3fb-4d53-438f-be5c-0afa3975e48a"
      },
      "execution_count": 1,
      "outputs": [
        {
          "output_type": "stream",
          "name": "stdout",
          "text": [
            "34\n"
          ]
        }
      ]
    }
  ]
}
